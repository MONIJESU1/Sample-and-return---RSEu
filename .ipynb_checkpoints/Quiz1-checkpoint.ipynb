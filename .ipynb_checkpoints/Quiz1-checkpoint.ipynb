{
 "cells": [
  {
   "cell_type": "code",
   "execution_count": null,
   "id": "cf094f80-89f0-4028-85e8-90fe1d1c5dc3",
   "metadata": {},
   "outputs": [],
   "source": [
    "import matplotlib.pyplot as plt\n",
    "import matplotlib.image as mpimg\n",
    "import numpy as np\n",
    "\n",
    "# Read in the image\n",
    "# There are six more images available for reading\n",
    "# called sample1-6.jpg, feel free to experiment with the others!\n",
    "image_name = 'sample.jpg'\n",
    "image = mpimg.imread(image_name)\n",
    "\n",
    "# Define a function to perform a color threshold\n",
    "def color_thresh(img, rgb_thresh=(0, 0, 0)):\n",
    "    ###### TODO:\n",
    "    # Create an empty array the same size in x and y as the image \n",
    "    # but just a single channel\n",
    "    color_select = np.zeros_like(img[:,:,0])\n",
    "    # Apply the thresholds for RGB and assign 1's \n",
    "    # where threshold was exceeded\n",
    "    # Return the single-channel binary image\n",
    "    return color_select\n",
    "    \n",
    "# Define color selection criteria\n",
    "###### TODO: MODIFY THESE VARIABLES TO MAKE YOUR COLOR SELECTION\n",
    "red_threshold = 0\n",
    "green_threshold = 0\n",
    "blue_threshold = 0\n",
    "######\n",
    "rgb_threshold = (red_threshold, green_threshold, blue_threshold)\n",
    "\n",
    "# pixels below the thresholds\n",
    "colorsel = color_thresh(image, rgb_thresh=rgb_threshold)\n",
    "\n",
    "# Display the original image and binary               \n",
    "f, (ax1, ax2) = plt.subplots(1, 2, figsize=(21, 7), sharey=True)\n",
    "f.tight_layout()\n",
    "ax1.imshow(image)\n",
    "ax1.set_title('Original Image', fontsize=40)\n",
    "\n",
    "ax2.imshow(colorsel, cmap='gray')\n",
    "ax2.set_title('Your Result', fontsize=40)\n",
    "plt.subplots_adjust(left=0., right=1, top=0.9, bottom=0.)\n",
    "#plt.show() # Uncomment if running on your local machine"
   ]
  }
 ],
 "metadata": {
  "kernelspec": {
   "display_name": "Python 3 (ipykernel)",
   "language": "python",
   "name": "python3"
  },
  "language_info": {
   "codemirror_mode": {
    "name": "ipython",
    "version": 3
   },
   "file_extension": ".py",
   "mimetype": "text/x-python",
   "name": "python",
   "nbconvert_exporter": "python",
   "pygments_lexer": "ipython3",
   "version": "3.10.12"
  }
 },
 "nbformat": 4,
 "nbformat_minor": 5
}
